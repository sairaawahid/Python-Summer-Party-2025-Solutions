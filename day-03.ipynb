{
  "cells": [
    {
      "cell_type": "markdown",
      "metadata": {},
      "source": [
        "# Day 3: Disney Parks Guest Spending Behavior"
      ]
    },
    {
      "cell_type": "markdown",
      "metadata": {},
      "source": [
        "You are a data analyst working with the Disney Parks revenue team to understand nuanced guest spending patterns across different park experiences. The team wants to develop a comprehensive view of visitor purchasing behaviors. Your goal is to uncover meaningful insights that can drive personalized marketing strategies."
      ]
    },
    {
      "cell_type": "code",
      "metadata": {},
      "execution_count": null,
      "outputs": [],
      "source": "import pandas as pd\nimport numpy as np\n\nfct_guest_spending_data = [\n  {\n    \"guest_id\": 1,\n    \"visit_date\": \"2024-07-05\",\n    \"amount_spent\": 50,\n    \"park_experience_type\": \"Attraction\"\n  },\n  {\n    \"guest_id\": 2,\n    \"visit_date\": \"2024-07-06\",\n    \"amount_spent\": 30,\n    \"park_experience_type\": \"Dining\"\n  },\n  {\n    \"guest_id\": 3,\n    \"visit_date\": \"2024-07-10\",\n    \"amount_spent\": 20.5,\n    \"park_experience_type\": \"Retail\"\n  },\n  {\n    \"guest_id\": 4,\n    \"visit_date\": \"2024-07-12\",\n    \"amount_spent\": 40,\n    \"park_experience_type\": \"Entertainment\"\n  },\n  {\n    \"guest_id\": 1,\n    \"visit_date\": \"2024-07-15\",\n    \"amount_spent\": 35,\n    \"park_experience_type\": \"Dining\"\n  },\n  {\n    \"guest_id\": 5,\n    \"visit_date\": \"2024-07-20\",\n    \"amount_spent\": 60,\n    \"park_experience_type\": \"Attraction\"\n  },\n  {\n    \"guest_id\": 6,\n    \"visit_date\": \"2024-07-25\",\n    \"amount_spent\": 25,\n    \"park_experience_type\": \"Retail\"\n  },\n  {\n    \"guest_id\": 1,\n    \"visit_date\": \"2024-08-03\",\n    \"amount_spent\": 55,\n    \"park_experience_type\": \"Attraction\"\n  },\n  {\n    \"guest_id\": 1,\n    \"visit_date\": \"2024-08-15\",\n    \"amount_spent\": 45,\n    \"park_experience_type\": \"Dining\"\n  },\n  {\n    \"guest_id\": 2,\n    \"visit_date\": \"2024-08-05\",\n    \"amount_spent\": 22,\n    \"park_experience_type\": \"Retail\"\n  },\n  {\n    \"guest_id\": 2,\n    \"visit_date\": \"2024-08-20\",\n    \"amount_spent\": 38,\n    \"park_experience_type\": \"Entertainment\"\n  },\n  {\n    \"guest_id\": 7,\n    \"visit_date\": \"2024-08-10\",\n    \"amount_spent\": 15,\n    \"park_experience_type\": \"Character Meet\"\n  },\n  {\n    \"guest_id\": 3,\n    \"visit_date\": \"2024-08-25\",\n    \"amount_spent\": 28,\n    \"park_experience_type\": \"Retail\"\n  },\n  {\n    \"guest_id\": 3,\n    \"visit_date\": \"2024-08-27\",\n    \"amount_spent\": 32,\n    \"park_experience_type\": \"Dining\"\n  },\n  {\n    \"guest_id\": 1,\n    \"visit_date\": \"2024-09-02\",\n    \"amount_spent\": 65,\n    \"park_experience_type\": \"Attraction\"\n  },\n  {\n    \"guest_id\": 8,\n    \"visit_date\": \"2024-09-05\",\n    \"amount_spent\": 50,\n    \"park_experience_type\": \"Retail\"\n  },\n  {\n    \"guest_id\": 9,\n    \"visit_date\": \"2024-09-15\",\n    \"amount_spent\": 40,\n    \"park_experience_type\": \"Dining\"\n  },\n  {\n    \"guest_id\": 10,\n    \"visit_date\": \"2024-09-20\",\n    \"amount_spent\": 70,\n    \"park_experience_type\": \"Entertainment\"\n  },\n  {\n    \"guest_id\": 1,\n    \"visit_date\": \"2024-09-25\",\n    \"amount_spent\": 35,\n    \"park_experience_type\": \"Dining\"\n  },\n  {\n    \"guest_id\": 8,\n    \"visit_date\": \"2024-09-28\",\n    \"amount_spent\": 10,\n    \"park_experience_type\": \"Character Meet\"\n  }\n]\nfct_guest_spending = pd.DataFrame(fct_guest_spending_data)\n"
    },
    {
      "cell_type": "markdown",
      "metadata": {},
      "source": [
        "## Question 1\n\nWhat is the average spending per guest per visit for each park experience type during July 2024? Ensure that park experience types with no recorded transactions are shown with an average spending of 0.0. This analysis helps establish baseline spending differences essential for later segmentation."
      ]
    },
    {
      "cell_type": "code",
      "metadata": {},
      "execution_count": null,
      "outputs": [],
      "source": "fct_guest_spending['visit_date'] = pd.to_datetime(fct_guest_spending['visit_date'])\n\njuly_spending = fct_guest_spending[\n    (fct_guest_spending['visit_date'].dt.month == 7) &\n    (fct_guest_spending['visit_date'].dt.year == 2024)\n]\n\navg_spending = july_spending.groupby(july_spending['park_experience_type'])['amount_spent'].mean().reset_index()\navg_spending.rename(columns={'amount_spent' : 'avg_spending'}, inplace=True)\n\nall_types = fct_guest_spending['park_experience_type'].unique()\navg_spending = avg_spending.set_index('park_experience_type').reindex(all_types, fill_value=0.0).reset_index()\navg_spending['avg_spending'] = avg_spending['avg_spending'].round(2)\n\nprint(\"Average spending per guest for each park experience type (July 2024): \", avg_spending.to_string(index=False))"
    },
    {
      "cell_type": "markdown",
      "metadata": {},
      "source": [
        "## Question 2\n\nFor guests who visited our parks more than once in August 2024, what is the difference in spending between their first and their last visit? This investigation, using sequential analysis, will reveal any shifts in guest spending behavior over multiple visits."
      ]
    },
    {
      "cell_type": "code",
      "metadata": {},
      "execution_count": null,
      "outputs": [],
      "source": "fct_guest_spending['visit_date'] = pd.to_datetime(fct_guest_spending['visit_date'])\n\naugust_spending = fct_guest_spending[\n    (fct_guest_spending['visit_date'].dt.month == 8) &\n    (fct_guest_spending['visit_date'].dt.year == 2024)\n]\n\naugust_spending = august_spending.sort_values(['guest_id', 'visit_date'])\n\nfirst_visit = august_spending.groupby('guest_id').first().reset_index()\nlast_visit = august_spending.groupby('guest_id').last().reset_index()\n\nmerge_visits = pd.merge(\n    first_visit[['guest_id', 'amount_spent']],\n    last_visit[['guest_id', 'amount_spent']],\n    on = 'guest_id',\n    suffixes = ('_first', '_last')\n)\nmerge_visits['spending_diff'] = merge_visits['amount_spent_last']-merge_visits['amount_spent_first']\nvisit_count = august_spending.groupby('guest_id').size().reset_index(name = 'visit_count')\nmulti_visitors = visit_count[visit_count['visit_count'] > 1]\n\nfinal_result = merge_visits[merge_visits['guest_id'].isin(multi_visitors['guest_id'])]\n\nprint(\"Difference in spending between first and last visit for multi-visit guests in Aug 2024:\")\nprint(final_result[['guest_id', 'amount_spent_first', 'amount_spent_last', 'spending_diff']])"
    },
    {
      "cell_type": "markdown",
      "metadata": {},
      "source": [
        "## Question 3\n\nIn September 2024, how can guests be categorized into distinct spending segments such as Low, Medium, and High based on their total spending? Use the following thresholds for categorization: \n-Low: Includes values from $0 up to, but not including, $50.\n-Medium: Includes values from $50 up to, but not including, $100.\n-High: Includes values from $100 and above. \nExclude guests who did not make any purchases in the period."
      ]
    },
    {
      "cell_type": "code",
      "metadata": {},
      "execution_count": null,
      "outputs": [],
      "source": "fct_guest_spending['visit_date'] = pd.to_datetime(fct_guest_spending['visit_date'])\n\nsept_spending = fct_guest_spending[\n    (fct_guest_spending['visit_date'].dt.month == 9) &\n    (fct_guest_spending['visit_date'].dt.year == 2024)\n]\nsept_spending = sept_spending.groupby('guest_id')['amount_spent'].sum().reset_index()\nsept_spending = sept_spending[sept_spending['amount_spent'] > 0]\n\nbins=[0, 50, 100, float('inf')]\nlabels=['Low', 'Medium', 'High']\n\nsept_spending['spending_segment'] = pd.cut(\n    sept_spending['amount_spent'],\n    bins=bins,\n    labels=labels,\n    right=False,\n    include_lowest=True\n)\nprint('September 2024 guest spending segments:')\nprint(sept_spending[['guest_id', 'amount_spent', 'spending_segment']].to_string(index=False))\n\nsegment_counts = sept_spending['spending_segment'].value_counts().reindex(labels, fill_value=0)\nprint('\\nCount by segment:')\nprint(segment_counts.to_string())"
    },
    {
      "cell_type": "markdown",
      "metadata": {},
      "source": [
        "Made with ❤️ by [Interview Master](https://www.interviewmaster.ai)"
      ]
    }
  ],
  "metadata": {
    "kernelspec": {
      "name": "python3",
      "language": "python",
      "display_name": "Python 3"
    },
    "language_info": {
      "name": "python",
      "version": "3",
      "mimetype": "text/x-python",
      "file_extension": ".py"
    }
  },
  "nbformat": 4,
  "nbformat_minor": 5
}