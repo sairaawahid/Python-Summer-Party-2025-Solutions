{
  "cells": [
    {
      "cell_type": "markdown",
      "metadata": {},
      "source": [
        "# Day 11: Payment Fraud Risk Detection in Online Transactions"
      ]
    },
    {
      "cell_type": "markdown",
      "metadata": {},
      "source": [
        "You are a data analyst in Stripe's risk management team investigating transaction patterns to identify potential fraud. The team needs to develop a systematic approach to screen transactions for financial risks. Your goal is to create an initial risk assessment methodology using transaction characteristics."
      ]
    },
    {
      "cell_type": "code",
      "metadata": {},
      "execution_count": null,
      "outputs": [],
      "source": "import pandas as pd\nimport numpy as np\n\ndim_risk_flags_data = [\n  {\n    \"risk_level\": \"Low\",\n    \"risk_flag_id\": 1,\n    \"transaction_id\": 2\n  },\n  {\n    \"risk_level\": \"Medium\",\n    \"risk_flag_id\": 2,\n    \"transaction_id\": 7\n  },\n  {\n    \"risk_level\": \"High\",\n    \"risk_flag_id\": 3,\n    \"transaction_id\": 11\n  },\n  {\n    \"risk_level\": \"High\",\n    \"risk_flag_id\": 4,\n    \"transaction_id\": 12\n  },\n  {\n    \"risk_level\": \"High\",\n    \"risk_flag_id\": 5,\n    \"transaction_id\": 13\n  },\n  {\n    \"risk_level\": \"Medium\",\n    \"risk_flag_id\": 6,\n    \"transaction_id\": 14\n  },\n  {\n    \"risk_level\": \"High\",\n    \"risk_flag_id\": 7,\n    \"transaction_id\": 15\n  },\n  {\n    \"risk_level\": \"Low\",\n    \"risk_flag_id\": 8,\n    \"transaction_id\": 1\n  },\n  {\n    \"risk_level\": \"Medium\",\n    \"risk_flag_id\": 9,\n    \"transaction_id\": 6\n  },\n  {\n    \"risk_level\": \"Low\",\n    \"risk_flag_id\": 10,\n    \"transaction_id\": 3\n  }\n]\ndim_risk_flags = pd.DataFrame(dim_risk_flags_data)\n\nfct_transactions_data = [\n  {\n    \"customer_email\": \"alice@gmail.com\",\n    \"transaction_id\": 1,\n    \"transaction_date\": \"2024-10-05\",\n    \"transaction_amount\": 120,\n    \"fraud_detection_score\": 10\n  },\n  {\n    \"customer_email\": \"bob@customdomain.com\",\n    \"transaction_id\": 2,\n    \"transaction_date\": \"2024-10-15\",\n    \"transaction_amount\": 250.5,\n    \"fraud_detection_score\": 20\n  },\n  {\n    \"customer_email\": \"charlie@yahoo.com\",\n    \"transaction_id\": 3,\n    \"transaction_date\": \"2024-10-20\",\n    \"transaction_amount\": 75.25,\n    \"fraud_detection_score\": 15\n  },\n  {\n    \"customer_email\": \"dana@hotmail.com\",\n    \"transaction_id\": 4,\n    \"transaction_date\": \"2024-10-25\",\n    \"transaction_amount\": 100,\n    \"fraud_detection_score\": 30\n  },\n  {\n    \"customer_email\": \"eve@biz.org\",\n    \"transaction_id\": 5,\n    \"transaction_date\": \"2024-10-30\",\n    \"transaction_amount\": 300,\n    \"fraud_detection_score\": 40\n  },\n  {\n    \"customer_email\": \"frank@gmail.com\",\n    \"transaction_id\": 6,\n    \"transaction_date\": \"2024-11-03\",\n    \"transaction_amount\": 150.75,\n    \"fraud_detection_score\": 25\n  },\n  {\n    \"customer_email\": \"grace@outlook.com\",\n    \"transaction_id\": 7,\n    \"transaction_date\": \"2024-11-10\",\n    \"transaction_amount\": null,\n    \"fraud_detection_score\": 50\n  },\n  {\n    \"customer_email\": \"ivan@yahoo.com\",\n    \"transaction_id\": 8,\n    \"transaction_date\": \"2024-11-15\",\n    \"transaction_amount\": 200,\n    \"fraud_detection_score\": 35\n  },\n  {\n    \"customer_email\": \"judy@hotmail.com\",\n    \"transaction_id\": 9,\n    \"transaction_date\": \"2024-11-21\",\n    \"transaction_amount\": 250,\n    \"fraud_detection_score\": 45\n  },\n  {\n    \"customer_email\": \"ken@domain.net\",\n    \"transaction_id\": 10,\n    \"transaction_date\": \"2024-11-29\",\n    \"transaction_amount\": 300,\n    \"fraud_detection_score\": 55\n  },\n  {\n    \"customer_email\": \"laura@riskmail.com\",\n    \"transaction_id\": 11,\n    \"transaction_date\": \"2024-12-02\",\n    \"transaction_amount\": 100,\n    \"fraud_detection_score\": 80\n  },\n  {\n    \"customer_email\": \"mike@securepay.com\",\n    \"transaction_id\": 12,\n    \"transaction_date\": \"2024-12-03\",\n    \"transaction_amount\": 180,\n    \"fraud_detection_score\": 85\n  },\n  {\n    \"customer_email\": \"nina@trusthub.com\",\n    \"transaction_id\": 13,\n    \"transaction_date\": \"2024-12-09\",\n    \"transaction_amount\": 220,\n    \"fraud_detection_score\": 90\n  },\n  {\n    \"customer_email\": \"oscar@fintech.com\",\n    \"transaction_id\": 14,\n    \"transaction_date\": \"2024-12-16\",\n    \"transaction_amount\": 140,\n    \"fraud_detection_score\": 70\n  },\n  {\n    \"customer_email\": \"paula@alertsys.com\",\n    \"transaction_id\": 15,\n    \"transaction_date\": \"2024-12-23\",\n    \"transaction_amount\": 260,\n    \"fraud_detection_score\": 95\n  }\n]\nfct_transactions = pd.DataFrame(fct_transactions_data)\n"
    },
    {
      "cell_type": "markdown",
      "metadata": {},
      "source": [
        "## Question 1\n\nHow many transactions in October 2024 have a customer email ending with a domain other than 'gmail.com', 'yahoo.com', or 'hotmail.com'? This metric will help us identify transactions associated with less common email providers that may indicate emerging risk patterns."
      ]
    },
    {
      "cell_type": "code",
      "metadata": {},
      "execution_count": null,
      "outputs": [],
      "source": "fct_transactions['transaction_date'] = pd.to_datetime(fct_transactions['transaction_date'], errors = 'coerce')\n\noct_tranx = fct_transactions[\n    (fct_transactions['transaction_date'].dt.month == 10) &\n    (fct_transactions['transaction_date'].dt.year == 2024)\n]\n\noct_tranx['email_domain'] = oct_tranx['customer_email'].str.split('@').str[-1]\n\ncommon_domains = ['gmail.com', 'yahoo.com', 'hotmail.com']\nuncommon_domains_tranx = oct_tranx[~oct_tranx['email_domain'].isin(common_domains)]\n\ncount_uncommon_domains_tranx = len(uncommon_domains_tranx)\n\nprint('No. of uncommon email domain transactions in October 2024:', count_uncommon_domains_tranx)"
    },
    {
      "cell_type": "markdown",
      "metadata": {},
      "source": [
        "## Question 2\n\nFor transactions occurring in November 2024, what is the average transaction amount, using 0 as a default for any missing values? This calculation will help us detect abnormal transaction amounts that could be related to fraudulent activity."
      ]
    },
    {
      "cell_type": "code",
      "metadata": {},
      "execution_count": null,
      "outputs": [],
      "source": "fct_transactions['transaction_date'] = pd.to_datetime(fct_transactions['transaction_date'])\n\nNov_tranx = fct_transactions[\n    (fct_transactions['transaction_date'].dt.month == 11) &\n    (fct_transactions['transaction_date'].dt.year == 2024)\n]\n\nNov_tranx['transaction_amount'] = Nov_tranx['transaction_amount'].fillna(0)\n\navg_tranx_amount = Nov_tranx['transaction_amount'].mean()\n\nprint(f\"Average transaction amount in November 2024: {avg_tranx_amount:.2f}\")"
    },
    {
      "cell_type": "markdown",
      "metadata": {},
      "source": [
        "## Question 3\n\nAmong transactions flagged as 'High' risk in December 2024, which day of the week recorded the highest number of such transactions? This analysis is intended to pinpoint specific days with concentrated high-risk activity and support the development of our preliminary fraud detection score."
      ]
    },
    {
      "cell_type": "code",
      "metadata": {},
      "execution_count": null,
      "outputs": [],
      "source": "merged_data = pd.merge(dim_risk_flags, fct_transactions, on='transaction_id', how='inner')\n\ndec_high_risk = merged_data[\n    (merged_data['risk_level'] == 'High') &\n    (merged_data['transaction_date'].dt.month == 12) &\n    (merged_data['transaction_date'].dt.year == 2024)\n]\n\ndec_high_risk['day_of_week'] = dec_high_risk['transaction_date'].dt.day_name()\n\ndays_count = dec_high_risk.groupby('day_of_week').size().reset_index(name = 'count')\n\nhighest_day = days_count.loc[days_count['count'].idxmax()]\n\nprint('Highest no. of days with high risk transactions in December 2024: ', highest_day)"
    },
    {
      "cell_type": "markdown",
      "metadata": {},
      "source": [
        "Made with ❤️ by [Interview Master](https://www.interviewmaster.ai)"
      ]
    }
  ],
  "metadata": {
    "kernelspec": {
      "name": "python3",
      "language": "python",
      "display_name": "Python 3"
    },
    "language_info": {
      "name": "python",
      "version": "3",
      "mimetype": "text/x-python",
      "file_extension": ".py"
    }
  },
  "nbformat": 4,
  "nbformat_minor": 5
}